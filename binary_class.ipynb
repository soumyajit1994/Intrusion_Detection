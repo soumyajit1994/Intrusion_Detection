{
  "nbformat": 4,
  "nbformat_minor": 0,
  "metadata": {
    "colab": {
      "name": "binary_class.ipynb",
      "provenance": [],
      "machine_shape": "hm"
    },
    "kernelspec": {
      "name": "python3",
      "display_name": "Python 3"
    },
    "accelerator": "TPU"
  },
  "cells": [
    {
      "cell_type": "code",
      "metadata": {
        "colab_type": "code",
        "id": "_JTPMbEsMFOB",
        "colab": {}
      },
      "source": [
        "import numpy as np\n",
        "from glob import glob\n",
        "import pandas as pd\n",
        "from sklearn.preprocessing import LabelEncoder, OneHotEncoder, MinMaxScaler"
      ],
      "execution_count": 0,
      "outputs": []
    },
    {
      "cell_type": "code",
      "metadata": {
        "colab_type": "code",
        "id": "iZFaaKaxHy7r",
        "outputId": "edb92169-b1ab-4161-f9b5-6cae235a28b3",
        "colab": {
          "base_uri": "https://localhost:8080/",
          "height": 54
        }
      },
      "source": [
        "from google.colab import drive\n",
        "drive.mount('/content/drive')"
      ],
      "execution_count": 3,
      "outputs": [
        {
          "output_type": "stream",
          "text": [
            "Drive already mounted at /content/drive; to attempt to forcibly remount, call drive.mount(\"/content/drive\", force_remount=True).\n"
          ],
          "name": "stdout"
        }
      ]
    },
    {
      "cell_type": "code",
      "metadata": {
        "colab_type": "code",
        "id": "gmtJNxJXMPkm",
        "outputId": "4310fc6a-6a78-4dce-d348-8127e747a20d",
        "colab": {
          "base_uri": "https://localhost:8080/",
          "height": 170
        }
      },
      "source": [
        "nd1 = np.zeros((0,79),dtype=object)\n",
        "for x in glob('/content/drive/My Drive/Dataset/Data/*.csv'):\n",
        "    print(x)\n",
        "    nd1=np.vstack((nd1,pd.read_csv(x)))"
      ],
      "execution_count": 0,
      "outputs": [
        {
          "output_type": "stream",
          "text": [
            "/content/drive/My Drive/Dataset/Data/Friday-02-03-2018_TrafficForML_CICFlowMeter.csv\n",
            "/content/drive/My Drive/Dataset/Data/Thursday-22-02-2018_TrafficForML_CICFlowMeter.csv\n",
            "/content/drive/My Drive/Dataset/Data/Wednesday-14-02-2018_TrafficForML_CICFlowMeter.csv\n",
            "/content/drive/My Drive/Dataset/Data/Friday-16-02-2018_TrafficForML_CICFlowMeter.csv\n",
            "/content/drive/My Drive/Dataset/Data/Thursday-15-02-2018_TrafficForML_CICFlowMeter.csv\n",
            "/content/drive/My Drive/Dataset/Data/Friday-23-02-2018_TrafficForML_CICFlowMeter.csv\n",
            "/content/drive/My Drive/Dataset/Data/Wednesday-21-02-2018_TrafficForML_CICFlowMeter.csv\n",
            "/content/drive/My Drive/Dataset/Data/Thursday-01-03-2018_TrafficForML_CICFlowMeter.csv\n",
            "/content/drive/My Drive/Dataset/Data/Wednesday-28-02-2018_TrafficForML_CICFlowMeter.csv\n"
          ],
          "name": "stdout"
        }
      ]
    },
    {
      "cell_type": "code",
      "metadata": {
        "colab_type": "code",
        "id": "4s7hHMm8ZWfI",
        "colab": {}
      },
      "source": [
        "Dt1=nd1[:,:-1].astype(float)"
      ],
      "execution_count": 0,
      "outputs": []
    },
    {
      "cell_type": "code",
      "metadata": {
        "colab_type": "code",
        "id": "XjHV_xKIcEGy",
        "colab": {}
      },
      "source": [
        "LNMV1=nd1[~np.isnan(Dt1).any(axis=1),-1]\n",
        "DtNMV1=Dt1[~np.isnan(Dt1).any(axis=1)]\n",
        "LNMIV1=LNMV1[~np.isinf(DtNMV1).any(axis=1)]\n",
        "DtNMIV1=DtNMV1[~np.isinf(DtNMV1).any(axis=1)]"
      ],
      "execution_count": 0,
      "outputs": []
    },
    {
      "cell_type": "code",
      "metadata": {
        "colab_type": "code",
        "id": "bRfo54-hcHs_",
        "colab": {}
      },
      "source": [
        "\n",
        "del(DtNMV1)"
      ],
      "execution_count": 0,
      "outputs": []
    },
    {
      "cell_type": "code",
      "metadata": {
        "colab_type": "code",
        "id": "leVYfIqEcLZX",
        "colab": {}
      },
      "source": [
        "np.save('/content/drive/My Drive/Result/NBx1', MinMaxScaler().fit_transform(DtNMIV1))\n",
        "np.save('/content/drive/My Drive/Result/NBy1', (LNMIV1=='Benign').astype(int))"
      ],
      "execution_count": 0,
      "outputs": []
    },
    {
      "cell_type": "code",
      "metadata": {
        "colab_type": "code",
        "id": "_iJwhlfScvqf",
        "outputId": "c82c9e1d-1c48-4aaa-87e9-5caea4759408",
        "colab": {
          "base_uri": "https://localhost:8080/",
          "height": 34
        }
      },
      "source": [
        "DtNMIV1.shape"
      ],
      "execution_count": 0,
      "outputs": [
        {
          "output_type": "execute_result",
          "data": {
            "text/plain": [
              "(8247888, 78)"
            ]
          },
          "metadata": {
            "tags": []
          },
          "execution_count": 7
        }
      ]
    },
    {
      "cell_type": "code",
      "metadata": {
        "colab_type": "code",
        "id": "xOsYYJC-c5ek",
        "colab": {}
      },
      "source": [
        "\n",
        "MCDt1=DtNMIV1[LNMIV1 !='Benign',:]"
      ],
      "execution_count": 0,
      "outputs": []
    },
    {
      "cell_type": "code",
      "metadata": {
        "colab_type": "code",
        "id": "BxT6AruEdH2B",
        "outputId": "653083dd-a722-44b2-9f44-f6630242c4c6",
        "colab": {
          "base_uri": "https://localhost:8080/",
          "height": 34
        }
      },
      "source": [
        "MCDt1.shape"
      ],
      "execution_count": 0,
      "outputs": [
        {
          "output_type": "execute_result",
          "data": {
            "text/plain": [
              "(2170743, 78)"
            ]
          },
          "metadata": {
            "tags": []
          },
          "execution_count": 9
        }
      ]
    },
    {
      "cell_type": "code",
      "metadata": {
        "id": "dUl4zj9xI3iI",
        "colab_type": "code",
        "colab": {}
      },
      "source": [
        "nd2 = np.zeros((0,79),dtype=object)\n",
        "nd2=np.vstack((nd2,pd.read_csv('/content/drive/My Drive/Dataset/Thuesday-20-02-2018_TrafficForML_CICFlowMeter.csv')))"
      ],
      "execution_count": 0,
      "outputs": []
    },
    {
      "cell_type": "code",
      "metadata": {
        "colab_type": "code",
        "id": "G3GAETlgJPN6",
        "colab": {}
      },
      "source": [
        "Dt2=nd2[:,:-1].astype(float)"
      ],
      "execution_count": 0,
      "outputs": []
    },
    {
      "cell_type": "code",
      "metadata": {
        "colab_type": "code",
        "id": "RdoX75KAJPOK",
        "colab": {}
      },
      "source": [
        "LNMV2=nd2[~np.isnan(Dt2).any(axis=1),-1]\n",
        "DtNMV2=Dt2[~np.isnan(Dt2).any(axis=1)]\n",
        "LNMIV2=LNMV2[~np.isinf(DtNMV2).any(axis=1)]\n",
        "DtNMIV2=DtNMV2[~np.isinf(DtNMV2).any(axis=1)]"
      ],
      "execution_count": 0,
      "outputs": []
    },
    {
      "cell_type": "code",
      "metadata": {
        "colab_type": "code",
        "id": "UZfL2PB7JPOP",
        "colab": {}
      },
      "source": [
        "\n",
        "del(DtNMV2)"
      ],
      "execution_count": 0,
      "outputs": []
    },
    {
      "cell_type": "code",
      "metadata": {
        "colab_type": "code",
        "id": "xI6VRxCgJPOV",
        "colab": {}
      },
      "source": [
        "np.save('/content/drive/My Drive/Result/NBx2', MinMaxScaler().fit_transform(DtNMIV2))\n",
        "np.save('/content/drive/My Drive/Result/NBy2', (LNMIV2=='Benign').astype(int))"
      ],
      "execution_count": 0,
      "outputs": []
    },
    {
      "cell_type": "code",
      "metadata": {
        "colab_type": "code",
        "outputId": "92cfcce1-eb38-4772-fe15-9d85ee80d457",
        "id": "Kcl4PuJLJPOb",
        "colab": {
          "base_uri": "https://localhost:8080/",
          "height": 34
        }
      },
      "source": [
        "DtNMIV2.shape"
      ],
      "execution_count": 0,
      "outputs": [
        {
          "output_type": "execute_result",
          "data": {
            "text/plain": [
              "(7889295, 78)"
            ]
          },
          "metadata": {
            "tags": []
          },
          "execution_count": 7
        }
      ]
    },
    {
      "cell_type": "code",
      "metadata": {
        "colab_type": "code",
        "id": "9bBE-3odJPOk",
        "colab": {}
      },
      "source": [
        "\n",
        "MCDt2=DtNMIV2[LNMIV2 !='Benign',:]"
      ],
      "execution_count": 0,
      "outputs": []
    },
    {
      "cell_type": "code",
      "metadata": {
        "colab_type": "code",
        "outputId": "7826583c-0895-4b93-f832-a686abc2cd27",
        "id": "CJBVCKpiJPOo",
        "colab": {
          "base_uri": "https://localhost:8080/",
          "height": 34
        }
      },
      "source": [
        "MCDt2.shape"
      ],
      "execution_count": 0,
      "outputs": [
        {
          "output_type": "execute_result",
          "data": {
            "text/plain": [
              "(576191, 78)"
            ]
          },
          "metadata": {
            "tags": []
          },
          "execution_count": 9
        }
      ]
    },
    {
      "cell_type": "code",
      "metadata": {
        "id": "xXwNtcFKdUw_",
        "colab_type": "code",
        "outputId": "3fbe3ed9-c55b-4ad4-fa20-86ec0435c44b",
        "colab": {
          "base_uri": "https://localhost:8080/",
          "height": 34
        }
      },
      "source": [
        "\n",
        "import numpy as np\n",
        "import os\n",
        "import tensorflow as tf\n",
        "import keras\n",
        "from keras import models\n",
        "from keras import layers"
      ],
      "execution_count": 3,
      "outputs": [
        {
          "output_type": "stream",
          "text": [
            "Using TensorFlow backend.\n"
          ],
          "name": "stderr"
        }
      ]
    },
    {
      "cell_type": "code",
      "metadata": {
        "id": "MCVgziahdpFm",
        "colab_type": "code",
        "colab": {}
      },
      "source": [
        "x1=np.load('/content/drive/My Drive/Result/NBx1.npy')\n",
        "y1=np.load('/content/drive/My Drive/Result/NBy1.npy')\n",
        "x2=np.load('/content/drive/My Drive/Result/NBx2.npy')\n",
        "y2=np.load('/content/drive/My Drive/Result/NBy2.npy')\n",
        "x=np.concatenate((x1,x2), axis=0)\n",
        "y=np.concatenate((y1,y2), axis=0)\n",
        "x=x.astype(np.float32)"
      ],
      "execution_count": 0,
      "outputs": []
    },
    {
      "cell_type": "code",
      "metadata": {
        "id": "P5MNJAyY01bD",
        "colab_type": "code",
        "colab": {}
      },
      "source": [
        "x=np.delete(x,0,1)"
      ],
      "execution_count": 0,
      "outputs": []
    },
    {
      "cell_type": "code",
      "metadata": {
        "id": "HV6TU-l4-Yv1",
        "colab_type": "code",
        "colab": {
          "base_uri": "https://localhost:8080/",
          "height": 51
        },
        "outputId": "470b1ee9-be35-4344-e585-f3705188140e"
      },
      "source": [
        "(unique, counts) = np.unique(y, return_counts=True)\n",
        "frequencies = np.asarray((unique, counts)).T\n",
        "\n",
        "print(frequencies)"
      ],
      "execution_count": 8,
      "outputs": [
        {
          "output_type": "stream",
          "text": [
            "[[       0  2746934]\n",
            " [       1 13390249]]\n"
          ],
          "name": "stdout"
        }
      ]
    },
    {
      "cell_type": "code",
      "metadata": {
        "id": "o1t_nZpFErfl",
        "colab_type": "code",
        "outputId": "b1b9b2da-4b22-433f-b515-7d19abe7b713",
        "colab": {
          "base_uri": "https://localhost:8080/",
          "height": 34
        }
      },
      "source": [
        "x.shape"
      ],
      "execution_count": 9,
      "outputs": [
        {
          "output_type": "execute_result",
          "data": {
            "text/plain": [
              "(16137183, 77)"
            ]
          },
          "metadata": {
            "tags": []
          },
          "execution_count": 9
        }
      ]
    },
    {
      "cell_type": "code",
      "metadata": {
        "id": "09d_z6ybgE1P",
        "colab_type": "code",
        "colab": {}
      },
      "source": [
        "from sklearn.model_selection import train_test_split\n",
        "xtrain, xtest, ytrain, ytest = train_test_split(x, y, test_size=0.2, random_state=123)"
      ],
      "execution_count": 0,
      "outputs": []
    },
    {
      "cell_type": "code",
      "metadata": {
        "colab_type": "code",
        "outputId": "1d42ecbc-d8b7-4003-9802-83cec88e6a11",
        "id": "Imu7YEun1XoE",
        "colab": {
          "base_uri": "https://localhost:8080/",
          "height": 1000
        }
      },
      "source": [
        "def create_model():\n",
        "  model = models.Sequential()\n",
        "  model.add(layers.Dense(256,input_dim=x.shape[1],activation='relu',use_bias=True))\n",
        "  model.add(layers.Dropout(0.1))\n",
        "  model.add(layers.Dense(128,activation='relu',use_bias=True))\n",
        "  model.add(layers.Dropout(0.1))\n",
        "  model.add(layers.Dense(64,activation='relu',use_bias=True))\n",
        "  model.add(layers.Dropout(0.1))\n",
        "  model.add(layers.Dense(32,activation='relu',use_bias=True))\n",
        "  model.add(layers.Dropout(0.5))\n",
        "  model.add(layers.Dense(1,activation='sigmoid',use_bias=True)) \n",
        "  return model\n",
        " \n",
        "model = create_model()\n",
        "model.compile(loss=\"binary_crossentropy\", optimizer=\"adam\", metrics=['accuracy'])\n",
        "model.summary()\n",
        "history=model.fit(xtrain , ytrain ,batch_size=1024 , epochs=20 ,verbose=1 ,shuffle=True)\n",
        "result = model.evaluate(xtest,ytest)\n",
        "dict(zip(model.metrics_names, result))"
      ],
      "execution_count": 10,
      "outputs": [
        {
          "output_type": "stream",
          "text": [
            "Model: \"sequential_1\"\n",
            "_________________________________________________________________\n",
            "Layer (type)                 Output Shape              Param #   \n",
            "=================================================================\n",
            "dense_1 (Dense)              (None, 256)               19968     \n",
            "_________________________________________________________________\n",
            "dropout_1 (Dropout)          (None, 256)               0         \n",
            "_________________________________________________________________\n",
            "dense_2 (Dense)              (None, 128)               32896     \n",
            "_________________________________________________________________\n",
            "dropout_2 (Dropout)          (None, 128)               0         \n",
            "_________________________________________________________________\n",
            "dense_3 (Dense)              (None, 64)                8256      \n",
            "_________________________________________________________________\n",
            "dropout_3 (Dropout)          (None, 64)                0         \n",
            "_________________________________________________________________\n",
            "dense_4 (Dense)              (None, 32)                2080      \n",
            "_________________________________________________________________\n",
            "dropout_4 (Dropout)          (None, 32)                0         \n",
            "_________________________________________________________________\n",
            "dense_5 (Dense)              (None, 1)                 33        \n",
            "=================================================================\n",
            "Total params: 63,233\n",
            "Trainable params: 63,233\n",
            "Non-trainable params: 0\n",
            "_________________________________________________________________\n",
            "Epoch 1/20\n",
            "12909746/12909746 [==============================] - 108s 8us/step - loss: 0.0579 - accuracy: 0.9848\n",
            "Epoch 2/20\n",
            "12909746/12909746 [==============================] - 106s 8us/step - loss: 0.0484 - accuracy: 0.9872\n",
            "Epoch 3/20\n",
            "12909746/12909746 [==============================] - 108s 8us/step - loss: 0.0481 - accuracy: 0.9869\n",
            "Epoch 4/20\n",
            "12909746/12909746 [==============================] - 106s 8us/step - loss: 0.0475 - accuracy: 0.9870\n",
            "Epoch 5/20\n",
            "12909746/12909746 [==============================] - 106s 8us/step - loss: 0.0480 - accuracy: 0.9869\n",
            "Epoch 6/20\n",
            "12909746/12909746 [==============================] - 108s 8us/step - loss: 0.0474 - accuracy: 0.9870\n",
            "Epoch 7/20\n",
            "12909746/12909746 [==============================] - 107s 8us/step - loss: 0.0469 - accuracy: 0.9873\n",
            "Epoch 8/20\n",
            "12909746/12909746 [==============================] - 107s 8us/step - loss: 0.0457 - accuracy: 0.9877\n",
            "Epoch 9/20\n",
            "12909746/12909746 [==============================] - 108s 8us/step - loss: 0.0466 - accuracy: 0.9872\n",
            "Epoch 10/20\n",
            "12909746/12909746 [==============================] - 106s 8us/step - loss: 0.0464 - accuracy: 0.9872\n",
            "Epoch 11/20\n",
            "12909746/12909746 [==============================] - 107s 8us/step - loss: 0.0463 - accuracy: 0.9872\n",
            "Epoch 12/20\n",
            "12909746/12909746 [==============================] - 110s 9us/step - loss: 0.0461 - accuracy: 0.9873\n",
            "Epoch 13/20\n",
            "12909746/12909746 [==============================] - 109s 8us/step - loss: 0.0457 - accuracy: 0.9874\n",
            "Epoch 14/20\n",
            "12909746/12909746 [==============================] - 111s 9us/step - loss: 0.0459 - accuracy: 0.9874\n",
            "Epoch 15/20\n",
            "12909746/12909746 [==============================] - 111s 9us/step - loss: 0.0455 - accuracy: 0.9875\n",
            "Epoch 16/20\n",
            "12909746/12909746 [==============================] - 108s 8us/step - loss: 0.0455 - accuracy: 0.9875\n",
            "Epoch 17/20\n",
            "12909746/12909746 [==============================] - 111s 9us/step - loss: 0.0452 - accuracy: 0.9876\n",
            "Epoch 18/20\n",
            "12909746/12909746 [==============================] - 110s 9us/step - loss: 0.0450 - accuracy: 0.9876\n",
            "Epoch 19/20\n",
            "12909746/12909746 [==============================] - 109s 8us/step - loss: 0.0451 - accuracy: 0.9876\n",
            "Epoch 20/20\n",
            "12909746/12909746 [==============================] - 111s 9us/step - loss: 0.0449 - accuracy: 0.9879\n",
            "3227437/3227437 [==============================] - 59s 18us/step\n"
          ],
          "name": "stdout"
        },
        {
          "output_type": "execute_result",
          "data": {
            "text/plain": [
              "{'accuracy': 0.9883638024330139, 'loss': 0.04276857356002982}"
            ]
          },
          "metadata": {
            "tags": []
          },
          "execution_count": 10
        }
      ]
    },
    {
      "cell_type": "code",
      "metadata": {
        "id": "tMA42dXlL1lS",
        "colab_type": "code",
        "colab": {}
      },
      "source": [
        "y_pred=model.predict(xtest)"
      ],
      "execution_count": 0,
      "outputs": []
    },
    {
      "cell_type": "code",
      "metadata": {
        "id": "9Um-ZUKpSoi1",
        "colab_type": "code",
        "colab": {
          "base_uri": "https://localhost:8080/",
          "height": 391
        },
        "outputId": "8ed6c501-9335-4fa0-ac95-8c5b05248f1e"
      },
      "source": [
        "from sklearn import metrics\n",
        "print(\"The accuracy score is\",metrics.accuracy_score(ytest, y_pred.round()))\n",
        "print(\"The precision score is\",metrics.precision_score(ytest, y_pred.round(),average='weighted'))\n",
        "print(\"The recall score is\",metrics.recall_score(ytest, y_pred.round(),average='weighted'))\n",
        "print(\"The f1-score is\",metrics.f1_score(ytest, y_pred.round(),average='weighted'))\n",
        "print('\\n')\n",
        "print(metrics.confusion_matrix(ytest, y_pred.round()))\n",
        "print('\\n')\n",
        "print(\"=== Classification Report ===\")\n",
        "print(metrics.classification_report(ytest, y_pred.round()))\n",
        "print('\\n')"
      ],
      "execution_count": 12,
      "outputs": [
        {
          "output_type": "stream",
          "text": [
            "The accuracy score is 0.9883638317339735\n",
            "The precision score is 0.9884547367456414\n",
            "The recall score is 0.9883638317339735\n",
            "The f1-score is 0.9882185494582253\n",
            "\n",
            "\n",
            "[[ 514446   35378]\n",
            " [   2177 2675436]]\n",
            "\n",
            "\n",
            "=== Classification Report ===\n",
            "              precision    recall  f1-score   support\n",
            "\n",
            "           0       1.00      0.94      0.96    549824\n",
            "           1       0.99      1.00      0.99   2677613\n",
            "\n",
            "    accuracy                           0.99   3227437\n",
            "   macro avg       0.99      0.97      0.98   3227437\n",
            "weighted avg       0.99      0.99      0.99   3227437\n",
            "\n",
            "\n",
            "\n"
          ],
          "name": "stdout"
        }
      ]
    },
    {
      "cell_type": "code",
      "metadata": {
        "id": "7gjlbeW0Zzdp",
        "colab_type": "code",
        "colab": {}
      },
      "source": [
        "from sklearn.ensemble import RandomForestClassifier\n",
        "rfc = RandomForestClassifier()\n",
        "rfc_history=rfc.fit(xtrain,ytrain)\n",
        "rfc_predict = rfc.predict(xtest)"
      ],
      "execution_count": 0,
      "outputs": []
    },
    {
      "cell_type": "code",
      "metadata": {
        "id": "OWWvBt-g40Wc",
        "colab_type": "code",
        "outputId": "c3c6c074-8994-403b-abaa-c6a6fa8d325f",
        "colab": {
          "base_uri": "https://localhost:8080/",
          "height": 391
        }
      },
      "source": [
        "from sklearn import metrics\n",
        "print(\"The accuracy score is\",metrics.accuracy_score(ytest, rfc_predict))\n",
        "print(\"The precision score is\",metrics.precision_score(ytest, rfc_predict,average='weighted'))\n",
        "print(\"The recall score is\",metrics.recall_score(ytest, rfc_predict,average='weighted'))\n",
        "print(\"The f1-score is\",metrics.f1_score(ytest, rfc_predict,average='weighted'))\n",
        "print('\\n')\n",
        "print(metrics.confusion_matrix(ytest, rfc_predict))\n",
        "print('\\n')\n",
        "print(\"=== Classification Report ===\")\n",
        "print(metrics.classification_report(ytest, rfc_predict))\n",
        "print('\\n')"
      ],
      "execution_count": 15,
      "outputs": [
        {
          "output_type": "stream",
          "text": [
            "The accuracy score is 0.986718253524391\n",
            "The precision score is 0.9867128304513948\n",
            "The recall score is 0.986718253524391\n",
            "The f1-score is 0.9865768177786151\n",
            "\n",
            "\n",
            "[[ 514151   35673]\n",
            " [   7193 2670420]]\n",
            "\n",
            "\n",
            "=== Classification Report ===\n",
            "              precision    recall  f1-score   support\n",
            "\n",
            "           0       0.99      0.94      0.96    549824\n",
            "           1       0.99      1.00      0.99   2677613\n",
            "\n",
            "    accuracy                           0.99   3227437\n",
            "   macro avg       0.99      0.97      0.98   3227437\n",
            "weighted avg       0.99      0.99      0.99   3227437\n",
            "\n",
            "\n",
            "\n"
          ],
          "name": "stdout"
        }
      ]
    }
  ]
}