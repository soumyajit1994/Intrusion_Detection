{
  "nbformat": 4,
  "nbformat_minor": 0,
  "metadata": {
    "colab": {
      "name": "multi_class.ipynb",
      "provenance": [],
      "collapsed_sections": [],
      "toc_visible": true,
      "machine_shape": "hm"
    },
    "kernelspec": {
      "name": "python3",
      "display_name": "Python 3"
    },
    "accelerator": "TPU"
  },
  "cells": [
    {
      "cell_type": "code",
      "metadata": {
        "colab_type": "code",
        "id": "_JTPMbEsMFOB",
        "colab": {}
      },
      "source": [
        "import numpy as np\n",
        "from glob import glob\n",
        "import pandas as pd\n",
        "from sklearn.preprocessing import LabelEncoder, OneHotEncoder, MinMaxScaler"
      ],
      "execution_count": 0,
      "outputs": []
    },
    {
      "cell_type": "code",
      "metadata": {
        "colab_type": "code",
        "id": "iZFaaKaxHy7r",
        "outputId": "c3a1a729-ab9c-4e88-a433-87e78563f267",
        "colab": {
          "base_uri": "https://localhost:8080/",
          "height": 54
        }
      },
      "source": [
        "from google.colab import drive\n",
        "drive.mount('/content/drive')"
      ],
      "execution_count": 20,
      "outputs": [
        {
          "output_type": "stream",
          "text": [
            "Drive already mounted at /content/drive; to attempt to forcibly remount, call drive.mount(\"/content/drive\", force_remount=True).\n"
          ],
          "name": "stdout"
        }
      ]
    },
    {
      "cell_type": "code",
      "metadata": {
        "colab_type": "code",
        "id": "gmtJNxJXMPkm",
        "outputId": "4310fc6a-6a78-4dce-d348-8127e747a20d",
        "colab": {
          "base_uri": "https://localhost:8080/",
          "height": 170
        }
      },
      "source": [
        "nd1 = np.zeros((0,79),dtype=object)\n",
        "for x in glob('/content/drive/My Drive/Dataset/Data/*.csv'):\n",
        "    print(x)\n",
        "    nd1=np.vstack((nd1,pd.read_csv(x)))"
      ],
      "execution_count": 21,
      "outputs": [
        {
          "output_type": "stream",
          "text": [
            "/content/drive/My Drive/Dataset/Data/Friday-02-03-2018_TrafficForML_CICFlowMeter.csv\n",
            "/content/drive/My Drive/Dataset/Data/Thursday-22-02-2018_TrafficForML_CICFlowMeter.csv\n",
            "/content/drive/My Drive/Dataset/Data/Wednesday-14-02-2018_TrafficForML_CICFlowMeter.csv\n",
            "/content/drive/My Drive/Dataset/Data/Friday-16-02-2018_TrafficForML_CICFlowMeter.csv\n",
            "/content/drive/My Drive/Dataset/Data/Thursday-15-02-2018_TrafficForML_CICFlowMeter.csv\n",
            "/content/drive/My Drive/Dataset/Data/Friday-23-02-2018_TrafficForML_CICFlowMeter.csv\n",
            "/content/drive/My Drive/Dataset/Data/Wednesday-21-02-2018_TrafficForML_CICFlowMeter.csv\n",
            "/content/drive/My Drive/Dataset/Data/Thursday-01-03-2018_TrafficForML_CICFlowMeter.csv\n",
            "/content/drive/My Drive/Dataset/Data/Wednesday-28-02-2018_TrafficForML_CICFlowMeter.csv\n"
          ],
          "name": "stdout"
        }
      ]
    },
    {
      "cell_type": "code",
      "metadata": {
        "colab_type": "code",
        "id": "4s7hHMm8ZWfI",
        "colab": {}
      },
      "source": [
        "Dt1=nd1[:,:-1].astype(float)"
      ],
      "execution_count": 0,
      "outputs": []
    },
    {
      "cell_type": "code",
      "metadata": {
        "colab_type": "code",
        "id": "XjHV_xKIcEGy",
        "colab": {}
      },
      "source": [
        "LNMV1=nd1[~np.isnan(Dt1).any(axis=1),-1]\n",
        "DtNMV1=Dt1[~np.isnan(Dt1).any(axis=1)]\n",
        "#Remove Inf values\n",
        "LNMIV1=LNMV1[~np.isinf(DtNMV1).any(axis=1)]\n",
        "DtNMIV1=DtNMV1[~np.isinf(DtNMV1).any(axis=1)]"
      ],
      "execution_count": 0,
      "outputs": []
    },
    {
      "cell_type": "code",
      "metadata": {
        "colab_type": "code",
        "id": "bRfo54-hcHs_",
        "colab": {}
      },
      "source": [
        "\n",
        "del(DtNMV1)"
      ],
      "execution_count": 0,
      "outputs": []
    },
    {
      "cell_type": "code",
      "metadata": {
        "colab_type": "code",
        "id": "_iJwhlfScvqf",
        "outputId": "ebf5273c-0f2b-42d3-b523-0cc5b4619b7b",
        "colab": {
          "base_uri": "https://localhost:8080/",
          "height": 34
        }
      },
      "source": [
        "DtNMIV1.shape"
      ],
      "execution_count": 25,
      "outputs": [
        {
          "output_type": "execute_result",
          "data": {
            "text/plain": [
              "(8247888, 78)"
            ]
          },
          "metadata": {
            "tags": []
          },
          "execution_count": 25
        }
      ]
    },
    {
      "cell_type": "code",
      "metadata": {
        "colab_type": "code",
        "id": "xOsYYJC-c5ek",
        "colab": {}
      },
      "source": [
        "\n",
        "MCDt1=DtNMIV1[LNMIV1 !='Benign',:]"
      ],
      "execution_count": 0,
      "outputs": []
    },
    {
      "cell_type": "code",
      "metadata": {
        "colab_type": "code",
        "id": "BxT6AruEdH2B",
        "outputId": "91c7bd27-2a7b-4227-d5e5-a3eaa9b6119c",
        "colab": {
          "base_uri": "https://localhost:8080/",
          "height": 34
        }
      },
      "source": [
        "MCDt1.shape"
      ],
      "execution_count": 28,
      "outputs": [
        {
          "output_type": "execute_result",
          "data": {
            "text/plain": [
              "(2170743, 78)"
            ]
          },
          "metadata": {
            "tags": []
          },
          "execution_count": 28
        }
      ]
    },
    {
      "cell_type": "code",
      "metadata": {
        "id": "tgJ7fUvU086U",
        "colab_type": "code",
        "colab": {}
      },
      "source": [
        "MCL1=LNMIV1[LNMIV1!='Benign']"
      ],
      "execution_count": 0,
      "outputs": []
    },
    {
      "cell_type": "code",
      "metadata": {
        "id": "3cQ7r7px1BHD",
        "colab_type": "code",
        "outputId": "e4c2cdb8-ac86-4e2b-e09d-590091ee0e1d",
        "colab": {
          "base_uri": "https://localhost:8080/",
          "height": 34
        }
      },
      "source": [
        "LNMIV1.shape,MCL1.shape"
      ],
      "execution_count": 30,
      "outputs": [
        {
          "output_type": "execute_result",
          "data": {
            "text/plain": [
              "((8247888,), (2170743,))"
            ]
          },
          "metadata": {
            "tags": []
          },
          "execution_count": 30
        }
      ]
    },
    {
      "cell_type": "code",
      "metadata": {
        "id": "5v-Ug9OK1Ppx",
        "colab_type": "code",
        "colab": {}
      },
      "source": [
        "np.save('/content/drive/My Drive/Result/NMCx1', MinMaxScaler().fit_transform(MCDt1))\n",
        "np.save('/content/drive/My Drive/Result/NMCy1', LabelEncoder().fit_transform(MCL1))"
      ],
      "execution_count": 0,
      "outputs": []
    },
    {
      "cell_type": "code",
      "metadata": {
        "id": "dUl4zj9xI3iI",
        "colab_type": "code",
        "colab": {}
      },
      "source": [
        "nd2 = np.zeros((0,79),dtype=object)\n",
        "nd2=np.vstack((nd2,pd.read_csv('/content/drive/My Drive/Dataset/Thuesday-20-02-2018_TrafficForML_CICFlowMeter.csv')))"
      ],
      "execution_count": 0,
      "outputs": []
    },
    {
      "cell_type": "code",
      "metadata": {
        "colab_type": "code",
        "id": "G3GAETlgJPN6",
        "colab": {}
      },
      "source": [
        "Dt2=nd2[:,:-1].astype(float)"
      ],
      "execution_count": 0,
      "outputs": []
    },
    {
      "cell_type": "code",
      "metadata": {
        "colab_type": "code",
        "id": "RdoX75KAJPOK",
        "colab": {}
      },
      "source": [
        "LNMV2=nd2[~np.isnan(Dt2).any(axis=1),-1]\n",
        "DtNMV2=Dt2[~np.isnan(Dt2).any(axis=1)]\n",
        "LNMIV2=LNMV2[~np.isinf(DtNMV2).any(axis=1)]\n",
        "DtNMIV2=DtNMV2[~np.isinf(DtNMV2).any(axis=1)]"
      ],
      "execution_count": 0,
      "outputs": []
    },
    {
      "cell_type": "code",
      "metadata": {
        "colab_type": "code",
        "id": "UZfL2PB7JPOP",
        "colab": {}
      },
      "source": [
        "\n",
        "del(DtNMV2)"
      ],
      "execution_count": 0,
      "outputs": []
    },
    {
      "cell_type": "code",
      "metadata": {
        "colab_type": "code",
        "outputId": "17514897-bd92-43c0-dd0c-2dcea3eaca0d",
        "id": "Kcl4PuJLJPOb",
        "colab": {
          "base_uri": "https://localhost:8080/",
          "height": 34
        }
      },
      "source": [
        "DtNMIV2.shape"
      ],
      "execution_count": 0,
      "outputs": [
        {
          "output_type": "execute_result",
          "data": {
            "text/plain": [
              "(7889295, 78)"
            ]
          },
          "metadata": {
            "tags": []
          },
          "execution_count": 7
        }
      ]
    },
    {
      "cell_type": "code",
      "metadata": {
        "colab_type": "code",
        "id": "9bBE-3odJPOk",
        "colab": {}
      },
      "source": [
        "\n",
        "MCDt2=DtNMIV2[LNMIV2 !='Benign',:]"
      ],
      "execution_count": 0,
      "outputs": []
    },
    {
      "cell_type": "code",
      "metadata": {
        "colab_type": "code",
        "outputId": "749403ce-a9ee-4666-af83-74f4961d8b43",
        "id": "CJBVCKpiJPOo",
        "colab": {
          "base_uri": "https://localhost:8080/",
          "height": 34
        }
      },
      "source": [
        "MCDt2.shape"
      ],
      "execution_count": 0,
      "outputs": [
        {
          "output_type": "execute_result",
          "data": {
            "text/plain": [
              "(576191, 78)"
            ]
          },
          "metadata": {
            "tags": []
          },
          "execution_count": 9
        }
      ]
    },
    {
      "cell_type": "code",
      "metadata": {
        "colab_type": "code",
        "id": "qVAX3AIk9LFn",
        "colab": {}
      },
      "source": [
        "MCL2=LNMIV2[LNMIV2!='Benign']"
      ],
      "execution_count": 0,
      "outputs": []
    },
    {
      "cell_type": "code",
      "metadata": {
        "colab_type": "code",
        "outputId": "f5004826-b4b6-44cd-fc67-7e198c8d1513",
        "id": "lpbSDyla9LFw",
        "colab": {
          "base_uri": "https://localhost:8080/",
          "height": 34
        }
      },
      "source": [
        "LNMIV2.shape,MCL2.shape"
      ],
      "execution_count": 0,
      "outputs": [
        {
          "output_type": "execute_result",
          "data": {
            "text/plain": [
              "((7889295,), (576191,))"
            ]
          },
          "metadata": {
            "tags": []
          },
          "execution_count": 11
        }
      ]
    },
    {
      "cell_type": "code",
      "metadata": {
        "colab_type": "code",
        "id": "uxTiOn0W9LF3",
        "colab": {}
      },
      "source": [
        "np.save('/content/drive/My Drive/Result/NMCx2', MinMaxScaler().fit_transform(MCDt2))\n",
        "np.save('/content/drive/My Drive/Result/NMCy2', LabelEncoder().fit_transform(MCL2))"
      ],
      "execution_count": 0,
      "outputs": []
    },
    {
      "cell_type": "code",
      "metadata": {
        "id": "xXwNtcFKdUw_",
        "colab_type": "code",
        "outputId": "adef6311-a8b1-46ac-ec7d-5edcbd4cd4ae",
        "colab": {
          "base_uri": "https://localhost:8080/",
          "height": 34
        }
      },
      "source": [
        "\n",
        "import numpy as np\n",
        "import os\n",
        "import tensorflow as tf\n",
        "import keras\n",
        "from keras import models\n",
        "from keras import layers"
      ],
      "execution_count": 3,
      "outputs": [
        {
          "output_type": "stream",
          "text": [
            "Using TensorFlow backend.\n"
          ],
          "name": "stderr"
        }
      ]
    },
    {
      "cell_type": "code",
      "metadata": {
        "id": "MCVgziahdpFm",
        "colab_type": "code",
        "colab": {}
      },
      "source": [
        "x1=np.load('/content/drive/My Drive/DistKeras/NMCx1.npy')\n",
        "y1=np.load('/content/drive/My Drive/DistKeras/NMCy1.npy')\n",
        "x2=np.load('/content/drive/My Drive/DistKeras/NMCx2.npy')\n",
        "y2=np.load('/content/drive/My Drive/DistKeras/NMCy2.npy')\n",
        "x=np.concatenate((x1,x2), axis=0)\n",
        "y=np.concatenate((y1,y2), axis=0)\n",
        "x=x.astype(np.float32)"
      ],
      "execution_count": 0,
      "outputs": []
    },
    {
      "cell_type": "code",
      "metadata": {
        "id": "P5MNJAyY01bD",
        "colab_type": "code",
        "colab": {}
      },
      "source": [
        "x=np.delete(x,0,1)"
      ],
      "execution_count": 0,
      "outputs": []
    },
    {
      "cell_type": "code",
      "metadata": {
        "id": "1FFpTa04_e98",
        "colab_type": "code",
        "colab": {
          "base_uri": "https://localhost:8080/",
          "height": 238
        },
        "outputId": "aeeb947e-5758-45ea-b5a8-30e36e783366"
      },
      "source": [
        "(unique, counts) = np.unique(y, return_counts=True)\n",
        "frequencies = np.asarray((unique, counts)).T\n",
        "\n",
        "print(frequencies)"
      ],
      "execution_count": 6,
      "outputs": [
        {
          "output_type": "stream",
          "text": [
            "[[     0 862382]\n",
            " [     1    611]\n",
            " [     2    230]\n",
            " [     3 686012]\n",
            " [     4   1730]\n",
            " [     5  41508]\n",
            " [     6 461912]\n",
            " [     7 139890]\n",
            " [     8  10990]\n",
            " [     9 193354]\n",
            " [    10 160639]\n",
            " [    11     87]\n",
            " [    12 187589]]\n"
          ],
          "name": "stdout"
        }
      ]
    },
    {
      "cell_type": "code",
      "metadata": {
        "id": "o1t_nZpFErfl",
        "colab_type": "code",
        "outputId": "4217a29d-2040-4b79-9c75-79d69c0ed8fc",
        "colab": {
          "base_uri": "https://localhost:8080/",
          "height": 34
        }
      },
      "source": [
        "x.shape"
      ],
      "execution_count": 9,
      "outputs": [
        {
          "output_type": "execute_result",
          "data": {
            "text/plain": [
              "(2746934, 77)"
            ]
          },
          "metadata": {
            "tags": []
          },
          "execution_count": 9
        }
      ]
    },
    {
      "cell_type": "code",
      "metadata": {
        "id": "09d_z6ybgE1P",
        "colab_type": "code",
        "colab": {}
      },
      "source": [
        "from sklearn.model_selection import train_test_split\n",
        "xtrain, xtest, ytrain, ytest = train_test_split(x, y, test_size=0.2, random_state=123)"
      ],
      "execution_count": 0,
      "outputs": []
    },
    {
      "cell_type": "code",
      "metadata": {
        "colab_type": "code",
        "id": "1GB-QxUKAj0L",
        "colab": {}
      },
      "source": [
        "from keras.utils import to_categorical\n",
        "ztrain = to_categorical(ytrain, num_classes=None)\n",
        "ztest = to_categorical(ytest, num_classes=None)"
      ],
      "execution_count": 0,
      "outputs": []
    },
    {
      "cell_type": "code",
      "metadata": {
        "id": "sYOyOeHHLQEK",
        "colab_type": "code",
        "colab": {
          "base_uri": "https://localhost:8080/",
          "height": 34
        },
        "outputId": "f7baccb1-f1c1-4128-c7e6-a11ae07b0595"
      },
      "source": [
        "ztrain.shape"
      ],
      "execution_count": 15,
      "outputs": [
        {
          "output_type": "execute_result",
          "data": {
            "text/plain": [
              "(2197547, 13)"
            ]
          },
          "metadata": {
            "tags": []
          },
          "execution_count": 15
        }
      ]
    },
    {
      "cell_type": "code",
      "metadata": {
        "colab_type": "code",
        "outputId": "06d36744-9bdf-49d6-8041-6fe2c4722191",
        "id": "MyOjwzlvs32o",
        "colab": {
          "base_uri": "https://localhost:8080/",
          "height": 1000
        }
      },
      "source": [
        "def create_model():\n",
        "  model = models.Sequential()\n",
        "  model.add(layers.Dense(256,input_dim=x.shape[1],activation='relu',use_bias=True))\n",
        "  model.add(layers.Dropout(0.1))\n",
        "  model.add(layers.Dense(128,activation='relu',use_bias=True))\n",
        "  model.add(layers.Dropout(0.1))\n",
        "  model.add(layers.Dense(64,activation='relu',use_bias=True))\n",
        "  model.add(layers.Dropout(0.1))\n",
        "  model.add(layers.Dense(32,activation='relu',use_bias=True))\n",
        "  model.add(layers.Dropout(0.5))\n",
        "  model.add(layers.Dense(np.unique(y).shape[0],activation='softmax',use_bias=True)) \n",
        "  return model\n",
        "\n",
        "from keras.optimizers import * \n",
        "model = create_model()\n",
        "opt = Adam(learning_rate=1e-4)\n",
        "model.compile(loss=\"categorical_crossentropy\", optimizer=opt, metrics=['categorical_accuracy'])\n",
        "model.summary()\n",
        "history=model.fit(xtrain , ztrain ,batch_size=256 , epochs=100 ,verbose=1 ,shuffle=True)\n",
        "result = model.evaluate(xtest,ztest)\n",
        "dict(zip(model.metrics_names, result))"
      ],
      "execution_count": 0,
      "outputs": [
        {
          "output_type": "stream",
          "text": [
            "Model: \"sequential_2\"\n",
            "_________________________________________________________________\n",
            "Layer (type)                 Output Shape              Param #   \n",
            "=================================================================\n",
            "dense_6 (Dense)              (None, 256)               19968     \n",
            "_________________________________________________________________\n",
            "dropout_5 (Dropout)          (None, 256)               0         \n",
            "_________________________________________________________________\n",
            "dense_7 (Dense)              (None, 128)               32896     \n",
            "_________________________________________________________________\n",
            "dropout_6 (Dropout)          (None, 128)               0         \n",
            "_________________________________________________________________\n",
            "dense_8 (Dense)              (None, 64)                8256      \n",
            "_________________________________________________________________\n",
            "dropout_7 (Dropout)          (None, 64)                0         \n",
            "_________________________________________________________________\n",
            "dense_9 (Dense)              (None, 32)                2080      \n",
            "_________________________________________________________________\n",
            "dropout_8 (Dropout)          (None, 32)                0         \n",
            "_________________________________________________________________\n",
            "dense_10 (Dense)             (None, 13)                429       \n",
            "=================================================================\n",
            "Total params: 63,629\n",
            "Trainable params: 63,629\n",
            "Non-trainable params: 0\n",
            "_________________________________________________________________\n",
            "Epoch 1/100\n",
            "2197547/2197547 [==============================] - 48s 22us/step - loss: 0.2844 - categorical_accuracy: 0.8971\n",
            "Epoch 2/100\n",
            "2197547/2197547 [==============================] - 45s 21us/step - loss: 0.1088 - categorical_accuracy: 0.9466\n",
            "Epoch 3/100\n",
            "2197547/2197547 [==============================] - 53s 24us/step - loss: 0.0959 - categorical_accuracy: 0.9517\n",
            "Epoch 4/100\n",
            "2197547/2197547 [==============================] - 57s 26us/step - loss: 0.0903 - categorical_accuracy: 0.9541\n",
            "Epoch 5/100\n",
            "2197547/2197547 [==============================] - 50s 23us/step - loss: 0.0873 - categorical_accuracy: 0.9552\n",
            "Epoch 6/100\n",
            "2197547/2197547 [==============================] - 47s 21us/step - loss: 0.0852 - categorical_accuracy: 0.9560\n",
            "Epoch 7/100\n",
            "2197547/2197547 [==============================] - 49s 22us/step - loss: 0.0839 - categorical_accuracy: 0.9567\n",
            "Epoch 8/100\n",
            "2197547/2197547 [==============================] - 46s 21us/step - loss: 0.0829 - categorical_accuracy: 0.9573\n",
            "Epoch 9/100\n",
            "2197547/2197547 [==============================] - 45s 20us/step - loss: 0.0818 - categorical_accuracy: 0.9578\n",
            "Epoch 10/100\n",
            "2197547/2197547 [==============================] - 47s 21us/step - loss: 0.0810 - categorical_accuracy: 0.9583\n",
            "Epoch 11/100\n",
            "2197547/2197547 [==============================] - 48s 22us/step - loss: 0.0803 - categorical_accuracy: 0.9589\n",
            "Epoch 12/100\n",
            "2197547/2197547 [==============================] - 47s 21us/step - loss: 0.0796 - categorical_accuracy: 0.9593\n",
            "Epoch 13/100\n",
            "2197547/2197547 [==============================] - 50s 23us/step - loss: 0.0793 - categorical_accuracy: 0.9597\n",
            "Epoch 14/100\n",
            "2197547/2197547 [==============================] - 46s 21us/step - loss: 0.0786 - categorical_accuracy: 0.9603\n",
            "Epoch 15/100\n",
            "2197547/2197547 [==============================] - 47s 21us/step - loss: 0.0780 - categorical_accuracy: 0.9607\n",
            "Epoch 16/100\n",
            "2197547/2197547 [==============================] - 46s 21us/step - loss: 0.0774 - categorical_accuracy: 0.9611\n",
            "Epoch 17/100\n",
            "2197547/2197547 [==============================] - 44s 20us/step - loss: 0.0771 - categorical_accuracy: 0.9614\n",
            "Epoch 18/100\n",
            "2197547/2197547 [==============================] - 43s 19us/step - loss: 0.0766 - categorical_accuracy: 0.9616\n",
            "Epoch 19/100\n",
            "2197547/2197547 [==============================] - 46s 21us/step - loss: 0.0762 - categorical_accuracy: 0.9618\n",
            "Epoch 20/100\n",
            "2197547/2197547 [==============================] - 52s 24us/step - loss: 0.0758 - categorical_accuracy: 0.9621\n",
            "Epoch 21/100\n",
            "2197547/2197547 [==============================] - 46s 21us/step - loss: 0.0752 - categorical_accuracy: 0.9622\n",
            "Epoch 22/100\n",
            "2197547/2197547 [==============================] - 47s 21us/step - loss: 0.0749 - categorical_accuracy: 0.9623\n",
            "Epoch 23/100\n",
            "2197547/2197547 [==============================] - 48s 22us/step - loss: 0.0747 - categorical_accuracy: 0.9624\n",
            "Epoch 24/100\n",
            "2197547/2197547 [==============================] - 45s 21us/step - loss: 0.0743 - categorical_accuracy: 0.9624\n",
            "Epoch 25/100\n",
            "2197547/2197547 [==============================] - 46s 21us/step - loss: 0.0742 - categorical_accuracy: 0.9626\n",
            "Epoch 26/100\n",
            "2197547/2197547 [==============================] - 47s 22us/step - loss: 0.0738 - categorical_accuracy: 0.9627\n",
            "Epoch 27/100\n",
            "2197547/2197547 [==============================] - 48s 22us/step - loss: 0.0737 - categorical_accuracy: 0.9627\n",
            "Epoch 28/100\n",
            "2197547/2197547 [==============================] - 47s 22us/step - loss: 0.0732 - categorical_accuracy: 0.9628\n",
            "Epoch 29/100\n",
            "2197547/2197547 [==============================] - 48s 22us/step - loss: 0.0729 - categorical_accuracy: 0.9628\n",
            "Epoch 30/100\n",
            "2197547/2197547 [==============================] - 47s 21us/step - loss: 0.0726 - categorical_accuracy: 0.9629\n",
            "Epoch 31/100\n",
            "2197547/2197547 [==============================] - 46s 21us/step - loss: 0.0723 - categorical_accuracy: 0.9630\n",
            "Epoch 32/100\n",
            "2197547/2197547 [==============================] - 47s 21us/step - loss: 0.0720 - categorical_accuracy: 0.9630\n",
            "Epoch 33/100\n",
            "2197547/2197547 [==============================] - 48s 22us/step - loss: 0.0721 - categorical_accuracy: 0.9631\n",
            "Epoch 34/100\n",
            "2197547/2197547 [==============================] - 44s 20us/step - loss: 0.0718 - categorical_accuracy: 0.9632\n",
            "Epoch 35/100\n",
            "2197547/2197547 [==============================] - 46s 21us/step - loss: 0.0717 - categorical_accuracy: 0.9632\n",
            "Epoch 36/100\n",
            "2197547/2197547 [==============================] - 45s 21us/step - loss: 0.0716 - categorical_accuracy: 0.9632\n",
            "Epoch 37/100\n",
            "2197547/2197547 [==============================] - 47s 21us/step - loss: 0.0716 - categorical_accuracy: 0.9632\n",
            "Epoch 38/100\n",
            "2197547/2197547 [==============================] - 48s 22us/step - loss: 0.0715 - categorical_accuracy: 0.9632\n",
            "Epoch 39/100\n",
            "2197547/2197547 [==============================] - 49s 22us/step - loss: 0.0711 - categorical_accuracy: 0.9634\n",
            "Epoch 40/100\n",
            "2197547/2197547 [==============================] - 52s 24us/step - loss: 0.0710 - categorical_accuracy: 0.9635\n",
            "Epoch 41/100\n",
            "2197547/2197547 [==============================] - 46s 21us/step - loss: 0.0710 - categorical_accuracy: 0.9634\n",
            "Epoch 42/100\n",
            "2197547/2197547 [==============================] - 46s 21us/step - loss: 0.0710 - categorical_accuracy: 0.9635\n",
            "Epoch 43/100\n",
            "2197547/2197547 [==============================] - 46s 21us/step - loss: 0.0709 - categorical_accuracy: 0.9635\n",
            "Epoch 44/100\n",
            "2197547/2197547 [==============================] - 46s 21us/step - loss: 0.0706 - categorical_accuracy: 0.9635\n",
            "Epoch 45/100\n",
            "2197547/2197547 [==============================] - 46s 21us/step - loss: 0.0707 - categorical_accuracy: 0.9636\n",
            "Epoch 46/100\n",
            "2197547/2197547 [==============================] - 47s 21us/step - loss: 0.0704 - categorical_accuracy: 0.9636\n",
            "Epoch 47/100\n",
            "2197547/2197547 [==============================] - 49s 22us/step - loss: 0.0708 - categorical_accuracy: 0.9635\n",
            "Epoch 48/100\n",
            "2197547/2197547 [==============================] - 46s 21us/step - loss: 0.0704 - categorical_accuracy: 0.9637\n",
            "Epoch 49/100\n",
            "2197547/2197547 [==============================] - 45s 21us/step - loss: 0.0704 - categorical_accuracy: 0.9637\n",
            "Epoch 50/100\n",
            "2197547/2197547 [==============================] - 45s 20us/step - loss: 0.0701 - categorical_accuracy: 0.9638\n",
            "Epoch 51/100\n",
            "2197547/2197547 [==============================] - 45s 20us/step - loss: 0.0702 - categorical_accuracy: 0.9637\n",
            "Epoch 52/100\n",
            "2197547/2197547 [==============================] - 45s 21us/step - loss: 0.0702 - categorical_accuracy: 0.9638\n",
            "Epoch 53/100\n",
            "2197547/2197547 [==============================] - 48s 22us/step - loss: 0.0701 - categorical_accuracy: 0.9638\n",
            "Epoch 54/100\n",
            "2197547/2197547 [==============================] - 47s 22us/step - loss: 0.0700 - categorical_accuracy: 0.9638\n",
            "Epoch 55/100\n",
            "2197547/2197547 [==============================] - 47s 21us/step - loss: 0.0699 - categorical_accuracy: 0.9638\n",
            "Epoch 56/100\n",
            "2197547/2197547 [==============================] - 46s 21us/step - loss: 0.0700 - categorical_accuracy: 0.9639\n",
            "Epoch 57/100\n",
            "2197547/2197547 [==============================] - 47s 21us/step - loss: 0.0697 - categorical_accuracy: 0.9639\n",
            "Epoch 58/100\n",
            "2197547/2197547 [==============================] - 47s 21us/step - loss: 0.0698 - categorical_accuracy: 0.9640\n",
            "Epoch 59/100\n",
            "2197547/2197547 [==============================] - 47s 22us/step - loss: 0.0697 - categorical_accuracy: 0.9642\n",
            "Epoch 60/100\n",
            "2197547/2197547 [==============================] - 48s 22us/step - loss: 0.0698 - categorical_accuracy: 0.9639\n",
            "Epoch 61/100\n",
            "2197547/2197547 [==============================] - 47s 21us/step - loss: 0.0695 - categorical_accuracy: 0.9641\n",
            "Epoch 62/100\n",
            "2197547/2197547 [==============================] - 47s 21us/step - loss: 0.0697 - categorical_accuracy: 0.9640\n",
            "Epoch 63/100\n",
            "2197547/2197547 [==============================] - 46s 21us/step - loss: 0.0698 - categorical_accuracy: 0.9640\n",
            "Epoch 64/100\n",
            "2197547/2197547 [==============================] - 47s 21us/step - loss: 0.0696 - categorical_accuracy: 0.9640\n",
            "Epoch 65/100\n",
            "2197547/2197547 [==============================] - 44s 20us/step - loss: 0.0696 - categorical_accuracy: 0.9641\n",
            "Epoch 66/100\n",
            "2197547/2197547 [==============================] - 48s 22us/step - loss: 0.0693 - categorical_accuracy: 0.9641\n",
            "Epoch 67/100\n",
            "2197547/2197547 [==============================] - 49s 22us/step - loss: 0.0694 - categorical_accuracy: 0.9641\n",
            "Epoch 68/100\n",
            "2197547/2197547 [==============================] - 47s 21us/step - loss: 0.0695 - categorical_accuracy: 0.9642\n",
            "Epoch 69/100\n",
            "2197547/2197547 [==============================] - 44s 20us/step - loss: 0.0693 - categorical_accuracy: 0.9642\n",
            "Epoch 70/100\n",
            "2197547/2197547 [==============================] - 42s 19us/step - loss: 0.0693 - categorical_accuracy: 0.9642\n",
            "Epoch 71/100\n",
            "2197547/2197547 [==============================] - 43s 19us/step - loss: 0.0693 - categorical_accuracy: 0.9642\n",
            "Epoch 72/100\n",
            "2197547/2197547 [==============================] - 44s 20us/step - loss: 0.0692 - categorical_accuracy: 0.9642\n",
            "Epoch 73/100\n",
            "2197547/2197547 [==============================] - 44s 20us/step - loss: 0.0691 - categorical_accuracy: 0.9642\n",
            "Epoch 74/100\n",
            "2197547/2197547 [==============================] - 45s 21us/step - loss: 0.0694 - categorical_accuracy: 0.9642\n",
            "Epoch 75/100\n",
            "2197547/2197547 [==============================] - 43s 20us/step - loss: 0.0692 - categorical_accuracy: 0.9642\n",
            "Epoch 76/100\n",
            "2197547/2197547 [==============================] - 44s 20us/step - loss: 0.0689 - categorical_accuracy: 0.9643\n",
            "Epoch 77/100\n",
            "2197547/2197547 [==============================] - 44s 20us/step - loss: 0.0689 - categorical_accuracy: 0.9643\n",
            "Epoch 78/100\n",
            "2197547/2197547 [==============================] - 44s 20us/step - loss: 0.0692 - categorical_accuracy: 0.9643\n",
            "Epoch 79/100\n",
            "2197547/2197547 [==============================] - 44s 20us/step - loss: 0.0688 - categorical_accuracy: 0.9645\n",
            "Epoch 80/100\n",
            "2197547/2197547 [==============================] - 47s 21us/step - loss: 0.0690 - categorical_accuracy: 0.9643\n",
            "Epoch 81/100\n",
            "2197547/2197547 [==============================] - 45s 20us/step - loss: 0.0689 - categorical_accuracy: 0.9644\n",
            "Epoch 82/100\n",
            "2197547/2197547 [==============================] - 43s 19us/step - loss: 0.0688 - categorical_accuracy: 0.9644\n",
            "Epoch 83/100\n",
            "2197547/2197547 [==============================] - 45s 20us/step - loss: 0.0688 - categorical_accuracy: 0.9645\n",
            "Epoch 84/100\n",
            "2197547/2197547 [==============================] - 45s 20us/step - loss: 0.0688 - categorical_accuracy: 0.9645\n",
            "Epoch 85/100\n",
            "2197547/2197547 [==============================] - 45s 20us/step - loss: 0.0687 - categorical_accuracy: 0.9646\n",
            "Epoch 86/100\n",
            "2197547/2197547 [==============================] - 46s 21us/step - loss: 0.0689 - categorical_accuracy: 0.9644\n",
            "Epoch 87/100\n",
            "2197547/2197547 [==============================] - 45s 20us/step - loss: 0.0692 - categorical_accuracy: 0.9645\n",
            "Epoch 88/100\n",
            "2197547/2197547 [==============================] - 45s 21us/step - loss: 0.0688 - categorical_accuracy: 0.9645\n",
            "Epoch 89/100\n",
            "2197547/2197547 [==============================] - 44s 20us/step - loss: 0.0687 - categorical_accuracy: 0.9645\n",
            "Epoch 90/100\n",
            "2197547/2197547 [==============================] - 44s 20us/step - loss: 0.0687 - categorical_accuracy: 0.9646\n",
            "Epoch 91/100\n",
            "2197547/2197547 [==============================] - 45s 20us/step - loss: 0.0685 - categorical_accuracy: 0.9647\n",
            "Epoch 92/100\n",
            "2197547/2197547 [==============================] - 45s 20us/step - loss: 0.0687 - categorical_accuracy: 0.9646\n",
            "Epoch 93/100\n",
            "2197547/2197547 [==============================] - 45s 20us/step - loss: 0.0686 - categorical_accuracy: 0.9646\n",
            "Epoch 94/100\n",
            "2197547/2197547 [==============================] - 43s 20us/step - loss: 0.0690 - categorical_accuracy: 0.9645\n",
            "Epoch 95/100\n",
            "2197547/2197547 [==============================] - 47s 21us/step - loss: 0.0688 - categorical_accuracy: 0.9646\n",
            "Epoch 96/100\n",
            "2197547/2197547 [==============================] - 45s 20us/step - loss: 0.0685 - categorical_accuracy: 0.9647\n",
            "Epoch 97/100\n",
            "2197547/2197547 [==============================] - 45s 21us/step - loss: 0.0683 - categorical_accuracy: 0.9646\n",
            "Epoch 98/100\n",
            "2197547/2197547 [==============================] - 46s 21us/step - loss: 0.0683 - categorical_accuracy: 0.9647\n",
            "Epoch 99/100\n",
            "2197547/2197547 [==============================] - 45s 20us/step - loss: 0.0685 - categorical_accuracy: 0.9647\n",
            "Epoch 100/100\n",
            "2197547/2197547 [==============================] - 46s 21us/step - loss: 0.0686 - categorical_accuracy: 0.9647\n",
            "549387/549387 [==============================] - 12s 21us/step\n"
          ],
          "name": "stdout"
        },
        {
          "output_type": "execute_result",
          "data": {
            "text/plain": [
              "{'categorical_accuracy': 0.9663370251655579, 'loss': 0.06522966549859952}"
            ]
          },
          "metadata": {
            "tags": []
          },
          "execution_count": 16
        }
      ]
    },
    {
      "cell_type": "code",
      "metadata": {
        "colab_type": "code",
        "id": "txen_0ITs323",
        "colab": {}
      },
      "source": [
        "pred=model.predict(xtest)\n",
        "y_pred = np.argmax(pred, axis=-1)"
      ],
      "execution_count": 0,
      "outputs": []
    },
    {
      "cell_type": "code",
      "metadata": {
        "colab_type": "code",
        "outputId": "5124dddc-4a9d-4b7d-9a60-75ec971bb411",
        "id": "Sp2ZBnEes32-",
        "colab": {
          "base_uri": "https://localhost:8080/",
          "height": 1000
        }
      },
      "source": [
        "from sklearn import metrics\n",
        "print(\"The accuracy score is\",metrics.accuracy_score(ytest, y_pred))\n",
        "print(\"The precision score is\",metrics.precision_score(ytest, y_pred,average='weighted'))\n",
        "print(\"The recall score is\",metrics.recall_score(ytest, y_pred,average='weighted'))\n",
        "print(\"The f1-score is\",metrics.f1_score(ytest, y_pred,average='weighted'))\n",
        "print('\\n')\n",
        "print(metrics.confusion_matrix(ytest, y_pred))\n",
        "print('\\n')\n",
        "print(\"=== Classification Report ===\")\n",
        "print(metrics.classification_report(ytest, y_pred))\n",
        "print('\\n')"
      ],
      "execution_count": 0,
      "outputs": [
        {
          "output_type": "stream",
          "text": [
            "The accuracy score is 0.9663370265404897\n"
          ],
          "name": "stdout"
        },
        {
          "output_type": "stream",
          "text": [
            "/usr/local/lib/python3.6/dist-packages/sklearn/metrics/_classification.py:1272: UndefinedMetricWarning: Precision is ill-defined and being set to 0.0 in labels with no predicted samples. Use `zero_division` parameter to control this behavior.\n",
            "  _warn_prf(average, modifier, msg_start, len(result))\n"
          ],
          "name": "stderr"
        },
        {
          "output_type": "stream",
          "text": [
            "The precision score is 0.9671175309001078\n",
            "The recall score is 0.9663370265404897\n",
            "The f1-score is 0.9647334369645175\n",
            "\n",
            "\n",
            "[[172223      0      0      0      0      0      0      0      0      0\n",
            "      26      0      0]\n",
            " [     6     81      0      0      0      0      0      0      0      0\n",
            "      47      0      0]\n",
            " [     9      0     20      0      0      0      0      0      0      0\n",
            "      13      0      0]\n",
            " [     0      0      0 137180      0      0      0      0      0      0\n",
            "       0      0      0]\n",
            " [     0      0      0      0    333      0      0      0      0      0\n",
            "       0      0      0]\n",
            " [     0      0      0      0      0   8330     68      0      0      0\n",
            "       0      0      0]\n",
            " [     0      0      0      0      0      1  92421      0      0      0\n",
            "       0      0      0]\n",
            " [     0      0      0      0      0      0      0  14088      0  13764\n",
            "       0      0      0]\n",
            " [     0      0      0      0      0      1      0      0   2191      0\n",
            "      14      0      0]\n",
            " [     0      0      0      0      0      0      0   4377      0  34589\n",
            "       0      0      0]\n",
            " [   122      0      0     15      0      2      0      1      3      1\n",
            "   31884      0      1]\n",
            " [     1      5      0      0      0      0      0      0      0      0\n",
            "      11      0      0]\n",
            " [     0      0      0      0      0      0      0      2      0      4\n",
            "       0      0  37553]]\n",
            "\n",
            "\n",
            "=== Classification Report ===\n"
          ],
          "name": "stdout"
        },
        {
          "output_type": "stream",
          "text": [
            "/usr/local/lib/python3.6/dist-packages/sklearn/metrics/_classification.py:1272: UndefinedMetricWarning: Precision and F-score are ill-defined and being set to 0.0 in labels with no predicted samples. Use `zero_division` parameter to control this behavior.\n",
            "  _warn_prf(average, modifier, msg_start, len(result))\n"
          ],
          "name": "stderr"
        },
        {
          "output_type": "stream",
          "text": [
            "              precision    recall  f1-score   support\n",
            "\n",
            "           0       1.00      1.00      1.00    172249\n",
            "           1       0.94      0.60      0.74       134\n",
            "           2       1.00      0.48      0.65        42\n",
            "           3       1.00      1.00      1.00    137180\n",
            "           4       1.00      1.00      1.00       333\n",
            "           5       1.00      0.99      1.00      8398\n",
            "           6       1.00      1.00      1.00     92422\n",
            "           7       0.76      0.51      0.61     27852\n",
            "           8       1.00      0.99      1.00      2206\n",
            "           9       0.72      0.89      0.79     38966\n",
            "          10       1.00      1.00      1.00     32029\n",
            "          11       0.00      0.00      0.00        17\n",
            "          12       1.00      1.00      1.00     37559\n",
            "\n",
            "    accuracy                           0.97    549387\n",
            "   macro avg       0.88      0.80      0.83    549387\n",
            "weighted avg       0.97      0.97      0.96    549387\n",
            "\n",
            "\n",
            "\n"
          ],
          "name": "stdout"
        }
      ]
    },
    {
      "cell_type": "code",
      "metadata": {
        "id": "7gjlbeW0Zzdp",
        "colab_type": "code",
        "colab": {}
      },
      "source": [
        "from sklearn.ensemble import RandomForestClassifier\n",
        "rfc = RandomForestClassifier()\n",
        "rfc_history=rfc.fit(xtrain,ytrain)\n",
        "rfc_predict = rfc.predict(xtest)"
      ],
      "execution_count": 0,
      "outputs": []
    },
    {
      "cell_type": "code",
      "metadata": {
        "id": "_BAfr5e42LuM",
        "colab_type": "code",
        "colab": {
          "base_uri": "https://localhost:8080/",
          "height": 986
        },
        "outputId": "81f967af-79b3-4826-fb39-82120a16109b"
      },
      "source": [
        "\n",
        "from sklearn import metrics\n",
        "print(\"The accuracy score is\",metrics.accuracy_score(ytest, rfc_predict.round()))\n",
        "print(\"The precision score is\",metrics.precision_score(ytest, rfc_predict.round(),average='weighted'))\n",
        "print(\"The recall score is\",metrics.recall_score(ytest, rfc_predict.round(),average='weighted'))\n",
        "print(\"The f1-score is\",metrics.f1_score(ytest, rfc_predict.round(),average='weighted'))\n",
        "print('\\n')\n",
        "print(metrics.confusion_matrix(ytest, rfc_predict))\n",
        "print('\\n')\n",
        "print(\"=== Classification Report ===\")\n",
        "print(metrics.classification_report(ytest, rfc_predict))\n",
        "print('\\n')"
      ],
      "execution_count": 36,
      "outputs": [
        {
          "output_type": "stream",
          "text": [
            "The accuracy score is 0.9666064176982709\n",
            "The precision score is 0.9670922150258797\n",
            "The recall score is 0.9666064176982709\n",
            "The f1-score is 0.9652494620412682\n",
            "\n",
            "\n",
            "[[172240      0      0      0      0      0      0      0      0      0\n",
            "       9      0      0]\n",
            " [     5     89      0      0      0      0      0      0      0      0\n",
            "      40      0      0]\n",
            " [     7      0     29      0      0      0      0      0      0      0\n",
            "       6      0      0]\n",
            " [     0      0      0 137172      0      0      0      0      0      0\n",
            "       8      0      0]\n",
            " [     0      0      0      0    333      0      0      0      0      0\n",
            "       0      0      0]\n",
            " [     0      0      0      0      0   8398      0      0      0      0\n",
            "       0      0      0]\n",
            " [     0      0      0      0      0      0  92422      0      0      0\n",
            "       0      0      0]\n",
            " [     0      0      0      0      0      0      0  14534      0  13318\n",
            "       0      0      0]\n",
            " [     0      0      0      0      0      0      0      0   2183      0\n",
            "      23      0      0]\n",
            " [     0      0      0      0      0      0      0   4827      0  34139\n",
            "       0      0      0]\n",
            " [    75      0      2      7      0      0      0      3      1      1\n",
            "   31939      0      1]\n",
            " [     1      0      0      0      0      0      0      0      0      0\n",
            "       6     10      0]\n",
            " [     0      0      0      0      0      0      0      2      0      4\n",
            "       0      0  37553]]\n",
            "\n",
            "\n",
            "=== Classification Report ===\n",
            "              precision    recall  f1-score   support\n",
            "\n",
            "           0       1.00      1.00      1.00    172249\n",
            "           1       1.00      0.66      0.80       134\n",
            "           2       0.94      0.69      0.79        42\n",
            "           3       1.00      1.00      1.00    137180\n",
            "           4       1.00      1.00      1.00       333\n",
            "           5       1.00      1.00      1.00      8398\n",
            "           6       1.00      1.00      1.00     92422\n",
            "           7       0.75      0.52      0.62     27852\n",
            "           8       1.00      0.99      0.99      2206\n",
            "           9       0.72      0.88      0.79     38966\n",
            "          10       1.00      1.00      1.00     32029\n",
            "          11       1.00      0.59      0.74        17\n",
            "          12       1.00      1.00      1.00     37559\n",
            "\n",
            "    accuracy                           0.97    549387\n",
            "   macro avg       0.95      0.87      0.90    549387\n",
            "weighted avg       0.97      0.97      0.97    549387\n",
            "\n",
            "\n",
            "\n"
          ],
          "name": "stdout"
        }
      ]
    }
  ]
}